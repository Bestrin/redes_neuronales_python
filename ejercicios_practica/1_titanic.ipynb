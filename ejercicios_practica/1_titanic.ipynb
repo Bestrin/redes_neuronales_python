{
  "cells": [
    {
      "cell_type": "markdown",
      "metadata": {
        "id": "67RBrvkUviuj"
      },
      "source": [
        "<a href=\"https://www.inove.com.ar\"><img src=\"https://raw.githubusercontent.com/InoveAlumnos/dataset_analytics_python/master/images/PA%20Banner.png\" width=\"1000\" align=\"center\"></a>\n",
        "\n",
        "\n",
        "# Ejercicio de clasificación con titanic dataset\n",
        "\n",
        "Ejemplo de clasificación utilizando el dataset de titanic<br>\n",
        "\n",
        "v1.1"
      ]
    },
    {
      "cell_type": "code",
      "execution_count": 124,
      "metadata": {
        "id": "y2sSeyEovSw-"
      },
      "outputs": [
        {
          "ename": "ModuleNotFoundError",
          "evalue": "No module named 'keras.utils.np_utils'",
          "output_type": "error",
          "traceback": [
            "\u001b[1;31m---------------------------------------------------------------------------\u001b[0m",
            "\u001b[1;31mModuleNotFoundError\u001b[0m                       Traceback (most recent call last)",
            "\u001b[1;32m~\\AppData\\Local\\Temp/ipykernel_13496/4219906338.py\u001b[0m in \u001b[0;36m<module>\u001b[1;34m\u001b[0m\n\u001b[0;32m     10\u001b[0m \u001b[1;32mfrom\u001b[0m \u001b[0mkeras\u001b[0m\u001b[1;33m.\u001b[0m\u001b[0mmodels\u001b[0m \u001b[1;32mimport\u001b[0m \u001b[0mSequential\u001b[0m\u001b[1;33m\u001b[0m\u001b[1;33m\u001b[0m\u001b[0m\n\u001b[0;32m     11\u001b[0m \u001b[1;31m#from keras.utils import to_categorical\u001b[0m\u001b[1;33m\u001b[0m\u001b[1;33m\u001b[0m\u001b[1;33m\u001b[0m\u001b[0m\n\u001b[1;32m---> 12\u001b[1;33m \u001b[1;32mfrom\u001b[0m \u001b[0mkeras\u001b[0m\u001b[1;33m.\u001b[0m\u001b[0mutils\u001b[0m\u001b[1;33m.\u001b[0m\u001b[0mnp_utils\u001b[0m \u001b[1;32mimport\u001b[0m \u001b[0mto_categorical\u001b[0m \u001b[1;31m# Si esto no funciona, probar con el import anterior\u001b[0m\u001b[1;33m\u001b[0m\u001b[1;33m\u001b[0m\u001b[0m\n\u001b[0m",
            "\u001b[1;31mModuleNotFoundError\u001b[0m: No module named 'keras.utils.np_utils'"
          ]
        }
      ],
      "source": [
        "import os\n",
        "import platform\n",
        "\n",
        "import numpy as np\n",
        "import matplotlib.pyplot as plt\n",
        "import seaborn as sns\n",
        "import pandas as pd\n",
        "\n",
        "import keras\n",
        "from keras.models import Sequential\n",
        "#from keras.utils import to_categorical  \n",
        "from keras.utils.np_utils import to_categorical # Si esto no funciona, probar con el import anterior"
      ]
    },
    {
      "cell_type": "markdown",
      "metadata": {
        "id": "7Szo7P_3v00C"
      },
      "source": [
        "# Recolectar datos\n",
        "<img src=\"https://raw.githubusercontent.com/InoveAlumnos/dataset_analytics_python/master/images/Pipeline1.png\" width=\"1000\" align=\"middle\">"
      ]
    },
    {
      "cell_type": "code",
      "execution_count": null,
      "metadata": {
        "id": "HnVpNGuAvyFi"
      },
      "outputs": [],
      "source": [
        "if os.access('titanic.csv', os.F_OK) is False:\n",
        "    if platform.system() == 'Windows':\n",
        "        !curl https://raw.githubusercontent.com/InoveAlumnos/dataset_analytics_python/master/titanic.csv > titanic.csv\n",
        "    else:\n",
        "        !wget titanic.csv https://raw.githubusercontent.com/InoveAlumnos/dataset_analytics_python/master/titanic.csv"
      ]
    },
    {
      "cell_type": "markdown",
      "metadata": {
        "id": "BbNSgxdfw0ix"
      },
      "source": [
        "### `titanic.csv`:\n",
        "El dataset **`titanic.csv`** contiene datos sobre los pasajeros que estuvieron en el titanic y si finalmente sobrevivieron o nó al viaje.<br>\n",
        "- **Passengerid** --> id del pasajero, ejemplo 5\n",
        "- **Survived** --> sobrevivió? 1(Si), 0(No)\n",
        "- **Pclass** --> clase (1, 2, 3)\n",
        "- **Name** --> nombre\n",
        "- **Sex** --> genero, ejemplo male(masculino), female(femenino)\n",
        "- **Age** --> edad\n",
        "- **Siblings** --> Hermanos y esposas/esposos abordo\n",
        "- **Parch** --> Hijos abordo\n",
        "- **Ticket** --> Nº de ticket\n",
        "- **Fare** --> tarifa del ticket\n",
        "- **Cabine** --> Nº de cabina\n",
        "- **Embarked** --> Puerto de embarque (C = Cherbourg; Q = Queenstown; S = Southampton)\n"
      ]
    },
    {
      "cell_type": "markdown",
      "metadata": {
        "id": "NHHsGe1Qypde"
      },
      "source": [
        "# Procesar datos\n",
        "<img src=\"https://raw.githubusercontent.com/InoveAlumnos/dataset_analytics_python/master/images/Pipeline2.png\" width=\"1000\" align=\"middle\">"
      ]
    },
    {
      "cell_type": "code",
      "execution_count": 125,
      "metadata": {
        "id": "uvzaKBMbyoiy"
      },
      "outputs": [
        {
          "data": {
            "text/html": [
              "<div>\n",
              "<style scoped>\n",
              "    .dataframe tbody tr th:only-of-type {\n",
              "        vertical-align: middle;\n",
              "    }\n",
              "\n",
              "    .dataframe tbody tr th {\n",
              "        vertical-align: top;\n",
              "    }\n",
              "\n",
              "    .dataframe thead th {\n",
              "        text-align: right;\n",
              "    }\n",
              "</style>\n",
              "<table border=\"1\" class=\"dataframe\">\n",
              "  <thead>\n",
              "    <tr style=\"text-align: right;\">\n",
              "      <th></th>\n",
              "      <th>PassengerId</th>\n",
              "      <th>Survived</th>\n",
              "      <th>Pclass</th>\n",
              "      <th>Age</th>\n",
              "      <th>SibSp</th>\n",
              "      <th>Parch</th>\n",
              "      <th>Fare</th>\n",
              "    </tr>\n",
              "  </thead>\n",
              "  <tbody>\n",
              "    <tr>\n",
              "      <th>count</th>\n",
              "      <td>891.000000</td>\n",
              "      <td>891.000000</td>\n",
              "      <td>891.000000</td>\n",
              "      <td>714.000000</td>\n",
              "      <td>891.000000</td>\n",
              "      <td>891.000000</td>\n",
              "      <td>891.000000</td>\n",
              "    </tr>\n",
              "    <tr>\n",
              "      <th>mean</th>\n",
              "      <td>446.000000</td>\n",
              "      <td>0.383838</td>\n",
              "      <td>2.308642</td>\n",
              "      <td>29.699118</td>\n",
              "      <td>0.523008</td>\n",
              "      <td>0.381594</td>\n",
              "      <td>32.204208</td>\n",
              "    </tr>\n",
              "    <tr>\n",
              "      <th>std</th>\n",
              "      <td>257.353842</td>\n",
              "      <td>0.486592</td>\n",
              "      <td>0.836071</td>\n",
              "      <td>14.526497</td>\n",
              "      <td>1.102743</td>\n",
              "      <td>0.806057</td>\n",
              "      <td>49.693429</td>\n",
              "    </tr>\n",
              "    <tr>\n",
              "      <th>min</th>\n",
              "      <td>1.000000</td>\n",
              "      <td>0.000000</td>\n",
              "      <td>1.000000</td>\n",
              "      <td>0.420000</td>\n",
              "      <td>0.000000</td>\n",
              "      <td>0.000000</td>\n",
              "      <td>0.000000</td>\n",
              "    </tr>\n",
              "    <tr>\n",
              "      <th>25%</th>\n",
              "      <td>223.500000</td>\n",
              "      <td>0.000000</td>\n",
              "      <td>2.000000</td>\n",
              "      <td>20.125000</td>\n",
              "      <td>0.000000</td>\n",
              "      <td>0.000000</td>\n",
              "      <td>7.910400</td>\n",
              "    </tr>\n",
              "    <tr>\n",
              "      <th>50%</th>\n",
              "      <td>446.000000</td>\n",
              "      <td>0.000000</td>\n",
              "      <td>3.000000</td>\n",
              "      <td>28.000000</td>\n",
              "      <td>0.000000</td>\n",
              "      <td>0.000000</td>\n",
              "      <td>14.454200</td>\n",
              "    </tr>\n",
              "    <tr>\n",
              "      <th>75%</th>\n",
              "      <td>668.500000</td>\n",
              "      <td>1.000000</td>\n",
              "      <td>3.000000</td>\n",
              "      <td>38.000000</td>\n",
              "      <td>1.000000</td>\n",
              "      <td>0.000000</td>\n",
              "      <td>31.000000</td>\n",
              "    </tr>\n",
              "    <tr>\n",
              "      <th>max</th>\n",
              "      <td>891.000000</td>\n",
              "      <td>1.000000</td>\n",
              "      <td>3.000000</td>\n",
              "      <td>80.000000</td>\n",
              "      <td>8.000000</td>\n",
              "      <td>6.000000</td>\n",
              "      <td>512.329200</td>\n",
              "    </tr>\n",
              "    <tr>\n",
              "      <th>Nan</th>\n",
              "      <td>0.000000</td>\n",
              "      <td>0.000000</td>\n",
              "      <td>0.000000</td>\n",
              "      <td>177.000000</td>\n",
              "      <td>0.000000</td>\n",
              "      <td>0.000000</td>\n",
              "      <td>0.000000</td>\n",
              "    </tr>\n",
              "    <tr>\n",
              "      <th>%Nan</th>\n",
              "      <td>0.000000</td>\n",
              "      <td>0.000000</td>\n",
              "      <td>0.000000</td>\n",
              "      <td>19.865320</td>\n",
              "      <td>0.000000</td>\n",
              "      <td>0.000000</td>\n",
              "      <td>0.000000</td>\n",
              "    </tr>\n",
              "  </tbody>\n",
              "</table>\n",
              "</div>"
            ],
            "text/plain": [
              "       PassengerId    Survived      Pclass         Age       SibSp  \\\n",
              "count   891.000000  891.000000  891.000000  714.000000  891.000000   \n",
              "mean    446.000000    0.383838    2.308642   29.699118    0.523008   \n",
              "std     257.353842    0.486592    0.836071   14.526497    1.102743   \n",
              "min       1.000000    0.000000    1.000000    0.420000    0.000000   \n",
              "25%     223.500000    0.000000    2.000000   20.125000    0.000000   \n",
              "50%     446.000000    0.000000    3.000000   28.000000    0.000000   \n",
              "75%     668.500000    1.000000    3.000000   38.000000    1.000000   \n",
              "max     891.000000    1.000000    3.000000   80.000000    8.000000   \n",
              "Nan       0.000000    0.000000    0.000000  177.000000    0.000000   \n",
              "%Nan      0.000000    0.000000    0.000000   19.865320    0.000000   \n",
              "\n",
              "            Parch        Fare  \n",
              "count  891.000000  891.000000  \n",
              "mean     0.381594   32.204208  \n",
              "std      0.806057   49.693429  \n",
              "min      0.000000    0.000000  \n",
              "25%      0.000000    7.910400  \n",
              "50%      0.000000   14.454200  \n",
              "75%      0.000000   31.000000  \n",
              "max      6.000000  512.329200  \n",
              "Nan      0.000000    0.000000  \n",
              "%Nan     0.000000    0.000000  "
            ]
          },
          "execution_count": 125,
          "metadata": {},
          "output_type": "execute_result"
        }
      ],
      "source": [
        "# Alumno, realice una inspeccion del dataset en búsqueda de elementos faltantes\n",
        "df = pd.read_csv(url)\n",
        "des = df.describe()\n",
        "des.loc['Nan'] = df.isna().sum()\n",
        "des.loc['%Nan'] = (df.isna().mean())*100\n",
        "des"
      ]
    },
    {
      "cell_type": "code",
      "execution_count": 126,
      "metadata": {
        "id": "Cw9HbE88y3wu"
      },
      "outputs": [
        {
          "data": {
            "text/html": [
              "<div>\n",
              "<style scoped>\n",
              "    .dataframe tbody tr th:only-of-type {\n",
              "        vertical-align: middle;\n",
              "    }\n",
              "\n",
              "    .dataframe tbody tr th {\n",
              "        vertical-align: top;\n",
              "    }\n",
              "\n",
              "    .dataframe thead th {\n",
              "        text-align: right;\n",
              "    }\n",
              "</style>\n",
              "<table border=\"1\" class=\"dataframe\">\n",
              "  <thead>\n",
              "    <tr style=\"text-align: right;\">\n",
              "      <th></th>\n",
              "      <th>PassengerId</th>\n",
              "      <th>Survived</th>\n",
              "      <th>Pclass</th>\n",
              "      <th>Name</th>\n",
              "      <th>Sex</th>\n",
              "      <th>Age</th>\n",
              "      <th>SibSp</th>\n",
              "      <th>Parch</th>\n",
              "      <th>Ticket</th>\n",
              "      <th>Fare</th>\n",
              "      <th>Cabin</th>\n",
              "      <th>Embarked</th>\n",
              "    </tr>\n",
              "  </thead>\n",
              "  <tbody>\n",
              "    <tr>\n",
              "      <th>0</th>\n",
              "      <td>1</td>\n",
              "      <td>0</td>\n",
              "      <td>3</td>\n",
              "      <td>Braund, Mr. Owen Harris</td>\n",
              "      <td>male</td>\n",
              "      <td>22.0</td>\n",
              "      <td>1</td>\n",
              "      <td>0</td>\n",
              "      <td>A/5 21171</td>\n",
              "      <td>7.2500</td>\n",
              "      <td>NaN</td>\n",
              "      <td>S</td>\n",
              "    </tr>\n",
              "    <tr>\n",
              "      <th>1</th>\n",
              "      <td>2</td>\n",
              "      <td>1</td>\n",
              "      <td>1</td>\n",
              "      <td>Cumings, Mrs. John Bradley (Florence Briggs Th...</td>\n",
              "      <td>female</td>\n",
              "      <td>38.0</td>\n",
              "      <td>1</td>\n",
              "      <td>0</td>\n",
              "      <td>PC 17599</td>\n",
              "      <td>71.2833</td>\n",
              "      <td>C85</td>\n",
              "      <td>C</td>\n",
              "    </tr>\n",
              "    <tr>\n",
              "      <th>2</th>\n",
              "      <td>3</td>\n",
              "      <td>1</td>\n",
              "      <td>3</td>\n",
              "      <td>Heikkinen, Miss. Laina</td>\n",
              "      <td>female</td>\n",
              "      <td>26.0</td>\n",
              "      <td>0</td>\n",
              "      <td>0</td>\n",
              "      <td>STON/O2. 3101282</td>\n",
              "      <td>7.9250</td>\n",
              "      <td>NaN</td>\n",
              "      <td>S</td>\n",
              "    </tr>\n",
              "    <tr>\n",
              "      <th>3</th>\n",
              "      <td>4</td>\n",
              "      <td>1</td>\n",
              "      <td>1</td>\n",
              "      <td>Futrelle, Mrs. Jacques Heath (Lily May Peel)</td>\n",
              "      <td>female</td>\n",
              "      <td>35.0</td>\n",
              "      <td>1</td>\n",
              "      <td>0</td>\n",
              "      <td>113803</td>\n",
              "      <td>53.1000</td>\n",
              "      <td>C123</td>\n",
              "      <td>S</td>\n",
              "    </tr>\n",
              "    <tr>\n",
              "      <th>4</th>\n",
              "      <td>5</td>\n",
              "      <td>0</td>\n",
              "      <td>3</td>\n",
              "      <td>Allen, Mr. William Henry</td>\n",
              "      <td>male</td>\n",
              "      <td>35.0</td>\n",
              "      <td>0</td>\n",
              "      <td>0</td>\n",
              "      <td>373450</td>\n",
              "      <td>8.0500</td>\n",
              "      <td>NaN</td>\n",
              "      <td>S</td>\n",
              "    </tr>\n",
              "  </tbody>\n",
              "</table>\n",
              "</div>"
            ],
            "text/plain": [
              "   PassengerId  Survived  Pclass  \\\n",
              "0            1         0       3   \n",
              "1            2         1       1   \n",
              "2            3         1       3   \n",
              "3            4         1       1   \n",
              "4            5         0       3   \n",
              "\n",
              "                                                Name     Sex   Age  SibSp  \\\n",
              "0                            Braund, Mr. Owen Harris    male  22.0      1   \n",
              "1  Cumings, Mrs. John Bradley (Florence Briggs Th...  female  38.0      1   \n",
              "2                             Heikkinen, Miss. Laina  female  26.0      0   \n",
              "3       Futrelle, Mrs. Jacques Heath (Lily May Peel)  female  35.0      1   \n",
              "4                           Allen, Mr. William Henry    male  35.0      0   \n",
              "\n",
              "   Parch            Ticket     Fare Cabin Embarked  \n",
              "0      0         A/5 21171   7.2500   NaN        S  \n",
              "1      0          PC 17599  71.2833   C85        C  \n",
              "2      0  STON/O2. 3101282   7.9250   NaN        S  \n",
              "3      0            113803  53.1000  C123        S  \n",
              "4      0            373450   8.0500   NaN        S  "
            ]
          },
          "execution_count": 126,
          "metadata": {},
          "output_type": "execute_result"
        }
      ],
      "source": [
        "# Alumno, inspeccione el dataset, visualice las columnas que posee y sus primeras filas\n",
        "df.head()"
      ]
    },
    {
      "cell_type": "code",
      "execution_count": 127,
      "metadata": {
        "id": "9g4_cql61J5m"
      },
      "outputs": [
        {
          "data": {
            "text/html": [
              "<div>\n",
              "<style scoped>\n",
              "    .dataframe tbody tr th:only-of-type {\n",
              "        vertical-align: middle;\n",
              "    }\n",
              "\n",
              "    .dataframe tbody tr th {\n",
              "        vertical-align: top;\n",
              "    }\n",
              "\n",
              "    .dataframe thead th {\n",
              "        text-align: right;\n",
              "    }\n",
              "</style>\n",
              "<table border=\"1\" class=\"dataframe\">\n",
              "  <thead>\n",
              "    <tr style=\"text-align: right;\">\n",
              "      <th></th>\n",
              "      <th>Survived</th>\n",
              "      <th>Pclass</th>\n",
              "      <th>Sex</th>\n",
              "      <th>Age</th>\n",
              "      <th>SibSp</th>\n",
              "      <th>Parch</th>\n",
              "    </tr>\n",
              "  </thead>\n",
              "  <tbody>\n",
              "    <tr>\n",
              "      <th>0</th>\n",
              "      <td>0</td>\n",
              "      <td>3</td>\n",
              "      <td>male</td>\n",
              "      <td>22.0</td>\n",
              "      <td>1</td>\n",
              "      <td>0</td>\n",
              "    </tr>\n",
              "    <tr>\n",
              "      <th>1</th>\n",
              "      <td>1</td>\n",
              "      <td>1</td>\n",
              "      <td>female</td>\n",
              "      <td>38.0</td>\n",
              "      <td>1</td>\n",
              "      <td>0</td>\n",
              "    </tr>\n",
              "    <tr>\n",
              "      <th>2</th>\n",
              "      <td>1</td>\n",
              "      <td>3</td>\n",
              "      <td>female</td>\n",
              "      <td>26.0</td>\n",
              "      <td>0</td>\n",
              "      <td>0</td>\n",
              "    </tr>\n",
              "    <tr>\n",
              "      <th>3</th>\n",
              "      <td>1</td>\n",
              "      <td>1</td>\n",
              "      <td>female</td>\n",
              "      <td>35.0</td>\n",
              "      <td>1</td>\n",
              "      <td>0</td>\n",
              "    </tr>\n",
              "    <tr>\n",
              "      <th>4</th>\n",
              "      <td>0</td>\n",
              "      <td>3</td>\n",
              "      <td>male</td>\n",
              "      <td>35.0</td>\n",
              "      <td>0</td>\n",
              "      <td>0</td>\n",
              "    </tr>\n",
              "  </tbody>\n",
              "</table>\n",
              "</div>"
            ],
            "text/plain": [
              "   Survived  Pclass     Sex   Age  SibSp  Parch\n",
              "0         0       3    male  22.0      1      0\n",
              "1         1       1  female  38.0      1      0\n",
              "2         1       3  female  26.0      0      0\n",
              "3         1       1  female  35.0      1      0\n",
              "4         0       3    male  35.0      0      0"
            ]
          },
          "execution_count": 127,
          "metadata": {},
          "output_type": "execute_result"
        }
      ],
      "source": [
        "# Alumno, del dataset original cree uno nuevo pero\n",
        "# unicamente con las siguientes columnas:\n",
        "# Survived, Pclass, Sex, Age, SibSp, Parch\n",
        "df2 = df[['Survived', 'Pclass', 'Sex', 'Age', 'SibSp', 'Parch']]\n",
        "df2.head()"
      ]
    },
    {
      "cell_type": "code",
      "execution_count": 128,
      "metadata": {
        "id": "aPr3AkXM1DkO"
      },
      "outputs": [],
      "source": [
        "# Alumno, en caso de encontrarse elementos faltantes,\n",
        "# elimine aquellas filas que tengan columnas vacias\n",
        "# Escriba el procedimiento tenga o no elementos faltantes\n",
        "df3 = df2.dropna(subset=['Survived', 'Pclass', 'Sex', 'Age', 'SibSp', 'Parch'])"
      ]
    },
    {
      "cell_type": "code",
      "execution_count": 129,
      "metadata": {
        "id": "LirgXKpiy8dr"
      },
      "outputs": [
        {
          "data": {
            "text/plain": [
              "714"
            ]
          },
          "execution_count": 129,
          "metadata": {},
          "output_type": "execute_result"
        }
      ],
      "source": [
        "# Alumno: Fin de la limpieza, especifique cuantas filas se poseen para analizar\n",
        "df3.shape[0]"
      ]
    },
    {
      "cell_type": "markdown",
      "metadata": {
        "id": "0BnzYdlRzBxz"
      },
      "source": [
        "# Explorar datos\n",
        "<img src=\"https://raw.githubusercontent.com/InoveAlumnos/dataset_analytics_python/master/images/Pipeline3.png\" width=\"1000\" align=\"middle\">"
      ]
    },
    {
      "cell_type": "code",
      "execution_count": 130,
      "metadata": {
        "id": "ujLgPJYo18IR"
      },
      "outputs": [
        {
          "data": {
            "text/html": [
              "<div>\n",
              "<style scoped>\n",
              "    .dataframe tbody tr th:only-of-type {\n",
              "        vertical-align: middle;\n",
              "    }\n",
              "\n",
              "    .dataframe tbody tr th {\n",
              "        vertical-align: top;\n",
              "    }\n",
              "\n",
              "    .dataframe thead th {\n",
              "        text-align: right;\n",
              "    }\n",
              "</style>\n",
              "<table border=\"1\" class=\"dataframe\">\n",
              "  <thead>\n",
              "    <tr style=\"text-align: right;\">\n",
              "      <th></th>\n",
              "      <th>Survived</th>\n",
              "      <th>Pclass</th>\n",
              "      <th>Sex</th>\n",
              "      <th>Age</th>\n",
              "      <th>SibSp</th>\n",
              "      <th>Parch</th>\n",
              "    </tr>\n",
              "  </thead>\n",
              "  <tbody>\n",
              "    <tr>\n",
              "      <th>0</th>\n",
              "      <td>0</td>\n",
              "      <td>3</td>\n",
              "      <td>male</td>\n",
              "      <td>22.0</td>\n",
              "      <td>1</td>\n",
              "      <td>0</td>\n",
              "    </tr>\n",
              "    <tr>\n",
              "      <th>1</th>\n",
              "      <td>1</td>\n",
              "      <td>1</td>\n",
              "      <td>female</td>\n",
              "      <td>38.0</td>\n",
              "      <td>1</td>\n",
              "      <td>0</td>\n",
              "    </tr>\n",
              "    <tr>\n",
              "      <th>2</th>\n",
              "      <td>1</td>\n",
              "      <td>3</td>\n",
              "      <td>female</td>\n",
              "      <td>26.0</td>\n",
              "      <td>0</td>\n",
              "      <td>0</td>\n",
              "    </tr>\n",
              "    <tr>\n",
              "      <th>3</th>\n",
              "      <td>1</td>\n",
              "      <td>1</td>\n",
              "      <td>female</td>\n",
              "      <td>35.0</td>\n",
              "      <td>1</td>\n",
              "      <td>0</td>\n",
              "    </tr>\n",
              "    <tr>\n",
              "      <th>4</th>\n",
              "      <td>0</td>\n",
              "      <td>3</td>\n",
              "      <td>male</td>\n",
              "      <td>35.0</td>\n",
              "      <td>0</td>\n",
              "      <td>0</td>\n",
              "    </tr>\n",
              "  </tbody>\n",
              "</table>\n",
              "</div>"
            ],
            "text/plain": [
              "   Survived  Pclass     Sex   Age  SibSp  Parch\n",
              "0         0       3    male  22.0      1      0\n",
              "1         1       1  female  38.0      1      0\n",
              "2         1       3  female  26.0      0      0\n",
              "3         1       1  female  35.0      1      0\n",
              "4         0       3    male  35.0      0      0"
            ]
          },
          "execution_count": 130,
          "metadata": {},
          "output_type": "execute_result"
        }
      ],
      "source": [
        "# Alumno, inspeccione el dataset, visualice las columnas que posee y sus primeras filas\n",
        "df3.head()"
      ]
    },
    {
      "cell_type": "code",
      "execution_count": 131,
      "metadata": {
        "id": "yH6oDykAzBMG"
      },
      "outputs": [
        {
          "data": {
            "text/plain": [
              "0    424\n",
              "1    290\n",
              "Name: Survived, dtype: int64"
            ]
          },
          "execution_count": 131,
          "metadata": {},
          "output_type": "execute_result"
        }
      ],
      "source": [
        "# Alumno: Explorar que tan balanceado está el dataset,\n",
        "# determinar cuantas personas sobrivivieron o nó\n",
        "df3['Survived'].value_counts()"
      ]
    },
    {
      "cell_type": "code",
      "execution_count": 132,
      "metadata": {
        "id": "uPNDkywTzazk"
      },
      "outputs": [
        {
          "data": {
            "text/plain": [
              "Survived  Sex   \n",
              "0         male      360\n",
              "          female     64\n",
              "1         female    197\n",
              "          male       93\n",
              "Name: Sex, dtype: int64"
            ]
          },
          "execution_count": 132,
          "metadata": {},
          "output_type": "execute_result"
        },
        {
          "data": {
            "image/png": "[encoded data removed]",
            "text/plain": [
              "<Figure size 432x288 with 1 Axes>"
            ]
          },
          "metadata": {
            "needs_background": "light"
          },
          "output_type": "display_data"
        }
      ],
      "source": [
        "# Alumno: Determinar cuantas personas sobrevivieron\n",
        "# diferenciando por género\n",
        "# Utilice el gráfico de seaborn countplot con hue=\"Sex\"\n",
        "sns.countplot(x=\"Survived\", hue=\"Sex\", data=df3)\n",
        "df3.groupby('Survived')['Sex'].value_counts()"
      ]
    },
    {
      "cell_type": "code",
      "execution_count": 133,
      "metadata": {
        "id": "WWbxZLQ5ytEP"
      },
      "outputs": [
        {
          "data": {
            "text/plain": [
              "3    355\n",
              "1    186\n",
              "2    173\n",
              "Name: Pclass, dtype: int64"
            ]
          },
          "execution_count": 133,
          "metadata": {},
          "output_type": "execute_result"
        },
        {
          "data": {
            "image/png": "[encoded data removed]",
            "text/plain": [
              "<Figure size 432x288 with 1 Axes>"
            ]
          },
          "metadata": {
            "needs_background": "light"
          },
          "output_type": "display_data"
        }
      ],
      "source": [
        "# Alumno: Determinar cuantas personas había de cada clase\n",
        "# Utilice el gráfico de seaborn countplot\n",
        "sns.countplot(x=\"Pclass\", data=df3)\n",
        "df3['Pclass'].value_counts()"
      ]
    },
    {
      "cell_type": "code",
      "execution_count": 134,
      "metadata": {
        "id": "aF9zLuKvzAx4"
      },
      "outputs": [
        {
          "data": {
            "text/plain": [
              "Pclass  Sex   \n",
              "1       male      101\n",
              "        female     85\n",
              "2       male       99\n",
              "        female     74\n",
              "3       male      253\n",
              "        female    102\n",
              "Name: Sex, dtype: int64"
            ]
          },
          "execution_count": 134,
          "metadata": {},
          "output_type": "execute_result"
        },
        {
          "data": {
            "image/png": "[encoded data removed]",
            "text/plain": [
              "<Figure size 432x288 with 1 Axes>"
            ]
          },
          "metadata": {
            "needs_background": "light"
          },
          "output_type": "display_data"
        }
      ],
      "source": [
        "# Alumno: Determinar cuantas personas había de cada clase\n",
        "# diferenciando por género\n",
        "# Utilice el gráfico de seaborn countplot con hue=\"Sex\"\n",
        "sns.countplot(x=\"Pclass\", hue=\"Sex\", data=df3)\n",
        "df3.groupby('Pclass')['Sex'].value_counts()"
      ]
    },
    {
      "cell_type": "markdown",
      "metadata": {
        "id": "ZdfLMthm0yyY"
      },
      "source": [
        "#### Transformar variables categóricas texto a clases numeradas"
      ]
    },
    {
      "cell_type": "code",
      "execution_count": 135,
      "metadata": {
        "id": "GJlDmX_F1ksA"
      },
      "outputs": [],
      "source": [
        "from sklearn.preprocessing import LabelEncoder"
      ]
    },
    {
      "cell_type": "code",
      "execution_count": 136,
      "metadata": {
        "id": "F92KfUW_2CSB"
      },
      "outputs": [],
      "source": [
        "# Alumno, cree un dataset df_cod como copia del que viene trabajando\n",
        "df_cod = df3.copy()"
      ]
    },
    {
      "cell_type": "code",
      "execution_count": 137,
      "metadata": {
        "id": "Lqa4Qq9dEGzr"
      },
      "outputs": [
        {
          "data": {
            "text/html": [
              "<div>\n",
              "<style scoped>\n",
              "    .dataframe tbody tr th:only-of-type {\n",
              "        vertical-align: middle;\n",
              "    }\n",
              "\n",
              "    .dataframe tbody tr th {\n",
              "        vertical-align: top;\n",
              "    }\n",
              "\n",
              "    .dataframe thead th {\n",
              "        text-align: right;\n",
              "    }\n",
              "</style>\n",
              "<table border=\"1\" class=\"dataframe\">\n",
              "  <thead>\n",
              "    <tr style=\"text-align: right;\">\n",
              "      <th></th>\n",
              "      <th>Survived</th>\n",
              "      <th>Pclass</th>\n",
              "      <th>Sex</th>\n",
              "      <th>Age</th>\n",
              "      <th>SibSp</th>\n",
              "      <th>Parch</th>\n",
              "    </tr>\n",
              "  </thead>\n",
              "  <tbody>\n",
              "    <tr>\n",
              "      <th>0</th>\n",
              "      <td>0</td>\n",
              "      <td>3</td>\n",
              "      <td>1</td>\n",
              "      <td>22.0</td>\n",
              "      <td>1</td>\n",
              "      <td>0</td>\n",
              "    </tr>\n",
              "    <tr>\n",
              "      <th>1</th>\n",
              "      <td>1</td>\n",
              "      <td>1</td>\n",
              "      <td>0</td>\n",
              "      <td>38.0</td>\n",
              "      <td>1</td>\n",
              "      <td>0</td>\n",
              "    </tr>\n",
              "    <tr>\n",
              "      <th>2</th>\n",
              "      <td>1</td>\n",
              "      <td>3</td>\n",
              "      <td>0</td>\n",
              "      <td>26.0</td>\n",
              "      <td>0</td>\n",
              "      <td>0</td>\n",
              "    </tr>\n",
              "    <tr>\n",
              "      <th>3</th>\n",
              "      <td>1</td>\n",
              "      <td>1</td>\n",
              "      <td>0</td>\n",
              "      <td>35.0</td>\n",
              "      <td>1</td>\n",
              "      <td>0</td>\n",
              "    </tr>\n",
              "    <tr>\n",
              "      <th>4</th>\n",
              "      <td>0</td>\n",
              "      <td>3</td>\n",
              "      <td>1</td>\n",
              "      <td>35.0</td>\n",
              "      <td>0</td>\n",
              "      <td>0</td>\n",
              "    </tr>\n",
              "  </tbody>\n",
              "</table>\n",
              "</div>"
            ],
            "text/plain": [
              "   Survived  Pclass  Sex   Age  SibSp  Parch\n",
              "0         0       3    1  22.0      1      0\n",
              "1         1       1    0  38.0      1      0\n",
              "2         1       3    0  26.0      0      0\n",
              "3         1       1    0  35.0      1      0\n",
              "4         0       3    1  35.0      0      0"
            ]
          },
          "execution_count": 137,
          "metadata": {},
          "output_type": "execute_result"
        }
      ],
      "source": [
        "# Utiliza el LabelEncoder para codificar la columna Sex, remplazando\n",
        "# esa columna por la nueva en el dataset nuevo que acaba de generar\n",
        "# Recuerde conservar el encoder!\n",
        "le = LabelEncoder()\n",
        "label_encoding = le.fit_transform(df_cod['Sex'])\n",
        "df_cod['Sex'] = label_encoding\n",
        "df_cod.head()"
      ]
    },
    {
      "cell_type": "code",
      "execution_count": 138,
      "metadata": {
        "id": "WNnJf9vG2dad"
      },
      "outputs": [
        {
          "name": "stdout",
          "output_type": "stream",
          "text": [
            "['female' 'male']\n"
          ]
        }
      ],
      "source": [
        "# Alumno,  imprimir las clases que ha detectado su encoder\n",
        "# (debe llamar al atributo classes_)\n",
        "print(le.classes_)"
      ]
    },
    {
      "cell_type": "code",
      "execution_count": 139,
      "metadata": {
        "id": "MoTnc2ayGzha"
      },
      "outputs": [
        {
          "data": {
            "image/png": "[encoded data removed]",
            "text/plain": [
              "<Figure size 360x360 with 1 Axes>"
            ]
          },
          "metadata": {
            "needs_background": "light"
          },
          "output_type": "display_data"
        }
      ],
      "source": [
        "# Alumno: Analizar la distribución de la edad\n",
        "sns.displot(data=df_cod, x=\"Age\")\n",
        "plt.show()"
      ]
    },
    {
      "cell_type": "code",
      "execution_count": 140,
      "metadata": {
        "id": "Q1pO_7A_HsqA"
      },
      "outputs": [],
      "source": [
        "# Alumno, cree un dataset df_cod como copia del que viene trabajando\n",
        "df_norm = df_cod.copy()"
      ]
    },
    {
      "cell_type": "code",
      "execution_count": 141,
      "metadata": {
        "id": "55eENaMEHKxA"
      },
      "outputs": [
        {
          "data": {
            "text/html": [
              "<div>\n",
              "<style scoped>\n",
              "    .dataframe tbody tr th:only-of-type {\n",
              "        vertical-align: middle;\n",
              "    }\n",
              "\n",
              "    .dataframe tbody tr th {\n",
              "        vertical-align: top;\n",
              "    }\n",
              "\n",
              "    .dataframe thead th {\n",
              "        text-align: right;\n",
              "    }\n",
              "</style>\n",
              "<table border=\"1\" class=\"dataframe\">\n",
              "  <thead>\n",
              "    <tr style=\"text-align: right;\">\n",
              "      <th></th>\n",
              "      <th>Survived</th>\n",
              "      <th>Pclass</th>\n",
              "      <th>Sex</th>\n",
              "      <th>Age</th>\n",
              "      <th>SibSp</th>\n",
              "      <th>Parch</th>\n",
              "    </tr>\n",
              "  </thead>\n",
              "  <tbody>\n",
              "    <tr>\n",
              "      <th>0</th>\n",
              "      <td>0</td>\n",
              "      <td>3</td>\n",
              "      <td>1</td>\n",
              "      <td>-0.530377</td>\n",
              "      <td>1</td>\n",
              "      <td>0</td>\n",
              "    </tr>\n",
              "    <tr>\n",
              "      <th>1</th>\n",
              "      <td>1</td>\n",
              "      <td>1</td>\n",
              "      <td>0</td>\n",
              "      <td>0.571831</td>\n",
              "      <td>1</td>\n",
              "      <td>0</td>\n",
              "    </tr>\n",
              "    <tr>\n",
              "      <th>2</th>\n",
              "      <td>1</td>\n",
              "      <td>3</td>\n",
              "      <td>0</td>\n",
              "      <td>-0.254825</td>\n",
              "      <td>0</td>\n",
              "      <td>0</td>\n",
              "    </tr>\n",
              "    <tr>\n",
              "      <th>3</th>\n",
              "      <td>1</td>\n",
              "      <td>1</td>\n",
              "      <td>0</td>\n",
              "      <td>0.365167</td>\n",
              "      <td>1</td>\n",
              "      <td>0</td>\n",
              "    </tr>\n",
              "    <tr>\n",
              "      <th>4</th>\n",
              "      <td>0</td>\n",
              "      <td>3</td>\n",
              "      <td>1</td>\n",
              "      <td>0.365167</td>\n",
              "      <td>0</td>\n",
              "      <td>0</td>\n",
              "    </tr>\n",
              "  </tbody>\n",
              "</table>\n",
              "</div>"
            ],
            "text/plain": [
              "   Survived  Pclass  Sex       Age  SibSp  Parch\n",
              "0         0       3    1 -0.530377      1      0\n",
              "1         1       1    0  0.571831      1      0\n",
              "2         1       3    0 -0.254825      0      0\n",
              "3         1       1    0  0.365167      1      0\n",
              "4         0       3    1  0.365167      0      0"
            ]
          },
          "execution_count": 141,
          "metadata": {},
          "output_type": "execute_result"
        }
      ],
      "source": [
        "# Alumno: utilizar StandarScaler para normalizar la column de \"Age\"\n",
        "# Conservar el scaler que lo necesitará para el final\n",
        "from sklearn.preprocessing import StandardScaler\n",
        "scaler = StandardScaler()\n",
        "df_norm['Age'] = scaler.fit_transform(df_norm[['Age']])\n",
        "#df_norm.loc[:, 'Age'] = scaler.fit_transform(df_norm[['Age']])\n",
        "df_norm.head()"
      ]
    },
    {
      "cell_type": "markdown",
      "metadata": {
        "id": "7z_SuZlj3gbQ"
      },
      "source": [
        "# Entrenar modelo\n",
        "<img src=\"https://raw.githubusercontent.com/InoveAlumnos/dataset_analytics_python/master/images/Pipeline4.png\" width=\"1000\" align=\"middle\">"
      ]
    },
    {
      "cell_type": "markdown",
      "metadata": {
        "id": "ntY84fHj3q5q"
      },
      "source": [
        "El primer paso es obtener los datos que serán la entrada del sistema (X) y los datos que serán la salida del modelo estimador (y)"
      ]
    },
    {
      "cell_type": "code",
      "execution_count": 142,
      "metadata": {
        "id": "EIg2_OQ43fqZ"
      },
      "outputs": [],
      "source": [
        "# Alumno: genere un numpy array \"X\" que posea todos los feutres (todo menos Survived)\n",
        "# genere un array numpy \"y\" de solo la columna Survived\n",
        "X = df_norm.drop('Survived', axis=1).values\n",
        "y = df_norm['Survived'].values"
      ]
    },
    {
      "cell_type": "code",
      "execution_count": 143,
      "metadata": {},
      "outputs": [
        {
          "data": {
            "text/plain": [
              "array([0, 1, 1, 1, 0, 0, 0, 1, 1, 1, 1, 0, 0, 0, 1, 0, 0, 0, 1, 1, 1, 0,\n",
              "       1, 0, 0, 0, 0, 0, 0, 0, 1, 0, 0, 1, 1, 0, 0, 0, 1, 1, 0, 1, 0, 1,\n",
              "       0, 0, 1, 0, 0, 1, 0, 1, 0, 0, 0, 0, 0, 1, 0, 1, 1, 0, 1, 0, 1, 1,\n",
              "       0, 1, 0, 0, 0, 0, 0, 0, 0, 1, 1, 0, 0, 0, 0, 0, 0, 1, 0, 0, 0, 0,\n",
              "       0, 0, 0, 0, 0, 0, 0, 0, 0, 1, 0, 1, 1, 0, 0, 0, 0, 1, 0, 0, 1, 0,\n",
              "       0, 0, 1, 1, 0, 0, 0, 1, 0, 0, 0, 0, 1, 0, 0, 0, 1, 0, 0, 1, 0, 0,\n",
              "       0, 1, 0, 0, 0, 0, 1, 0, 0, 0, 0, 0, 0, 0, 1, 1, 1, 0, 0, 1, 0, 1,\n",
              "       1, 1, 1, 0, 0, 0, 0, 0, 1, 0, 0, 1, 1, 1, 0, 1, 0, 0, 1, 1, 0, 1,\n",
              "       0, 1, 0, 0, 1, 0, 1, 0, 0, 1, 0, 0, 1, 0, 0, 1, 0, 0, 0, 0, 0, 0,\n",
              "       0, 1, 1, 0, 0, 0, 0, 0, 1, 1, 1, 1, 1, 0, 0, 0, 0, 1, 1, 1, 1, 1,\n",
              "       0, 1, 0, 0, 1, 0, 0, 0, 1, 0, 1, 0, 1, 1, 1, 1, 0, 0, 0, 0, 0, 1,\n",
              "       0, 1, 1, 0, 1, 1, 1, 0, 0, 0, 1, 1, 0, 1, 1, 0, 0, 1, 1, 1, 0, 1,\n",
              "       1, 1, 0, 0, 0, 0, 1, 1, 0, 1, 1, 0, 0, 0, 1, 1, 1, 0, 0, 0, 0, 0,\n",
              "       1, 0, 0, 0, 0, 0, 0, 1, 1, 1, 0, 0, 0, 0, 1, 0, 0, 0, 1, 1, 0, 1,\n",
              "       0, 0, 1, 1, 1, 1, 0, 1, 1, 0, 0, 0, 0, 1, 1, 0, 0, 0, 0, 0, 0, 1,\n",
              "       0, 1, 1, 1, 1, 0, 0, 0, 0, 0, 0, 1, 1, 1, 1, 1, 0, 0, 1, 0, 1, 0,\n",
              "       0, 1, 0, 0, 1, 1, 1, 1, 1, 1, 0, 0, 1, 1, 0, 1, 1, 0, 0, 0, 0, 0,\n",
              "       1, 0, 1, 1, 0, 0, 0, 0, 1, 0, 0, 1, 1, 1, 0, 0, 1, 0, 0, 0, 0, 1,\n",
              "       0, 0, 0, 0, 0, 1, 0, 1, 0, 1, 1, 1, 1, 0, 0, 1, 1, 0, 1, 0, 1, 0,\n",
              "       1, 0, 0, 1, 0, 0, 1, 0, 1, 1, 1, 0, 0, 1, 0, 0, 1, 0, 1, 1, 0, 1,\n",
              "       1, 0, 1, 1, 1, 0, 0, 0, 0, 0, 1, 1, 1, 1, 0, 0, 1, 1, 1, 1, 1, 0,\n",
              "       0, 1, 0, 1, 0, 0, 1, 0, 0, 0, 0, 1, 1, 0, 1, 0, 0, 1, 1, 1, 0, 0,\n",
              "       1, 0, 0, 1, 0, 0, 1, 1, 0, 0, 0, 0, 1, 0, 1, 0, 1, 0, 1, 0, 0, 0,\n",
              "       0, 1, 0, 1, 1, 0, 1, 1, 1, 0, 0, 0, 0, 0, 0, 1, 0, 0, 0, 1, 0, 0,\n",
              "       0, 1, 0, 0, 1, 0, 0, 1, 0, 1, 1, 0, 0, 0, 0, 0, 0, 0, 1, 1, 1, 0,\n",
              "       0, 0, 0, 0, 0, 1, 1, 0, 0, 0, 0, 1, 1, 1, 1, 1, 0, 0, 0, 1, 1, 0,\n",
              "       1, 0, 0, 0, 1, 0, 1, 0, 0, 1, 0, 0, 0, 0, 0, 1, 0, 1, 0, 1, 0, 0,\n",
              "       1, 0, 0, 1, 1, 0, 0, 1, 1, 0, 0, 0, 1, 0, 1, 1, 0, 1, 0, 0, 0, 0,\n",
              "       0, 1, 0, 1, 1, 1, 1, 0, 0, 0, 1, 0, 1, 0, 0, 0, 0, 1, 1, 0, 0, 0,\n",
              "       1, 1, 1, 1, 0, 0, 0, 0, 1, 0, 0, 0, 0, 0, 0, 0, 0, 0, 1, 1, 0, 1,\n",
              "       0, 1, 1, 1, 1, 0, 0, 1, 0, 1, 0, 0, 1, 0, 0, 0, 0, 0, 0, 0, 0, 1,\n",
              "       0, 1, 1, 1, 1, 0, 0, 1, 0, 1, 1, 0, 1, 0, 1, 0, 0, 1, 1, 0, 0, 1,\n",
              "       1, 0, 0, 0, 0, 0, 0, 1, 1, 0], dtype=int64)"
            ]
          },
          "execution_count": 143,
          "metadata": {},
          "output_type": "execute_result"
        }
      ],
      "source": [
        "y"
      ]
    },
    {
      "cell_type": "code",
      "execution_count": 144,
      "metadata": {
        "id": "80EhnBgTJAiU"
      },
      "outputs": [
        {
          "data": {
            "text/plain": [
              "5"
            ]
          },
          "execution_count": 144,
          "metadata": {},
          "output_type": "execute_result"
        }
      ],
      "source": [
        "# Alumno: obtener la cantidad de features (cantidad de columnas)\n",
        "# y almacenar en in_shape\n",
        "in_shape = X.shape[1]\n",
        "in_shape"
      ]
    },
    {
      "cell_type": "code",
      "execution_count": 145,
      "metadata": {
        "id": "bW7yowUVJI0v"
      },
      "outputs": [
        {
          "data": {
            "text/plain": [
              "1"
            ]
          },
          "execution_count": 145,
          "metadata": {},
          "output_type": "execute_result"
        }
      ],
      "source": [
        "# Alumno: crear una variable out_shape indicando cuandas neuronas de salida desea\n",
        "out_shape = 1\n",
        "out_shape"
      ]
    },
    {
      "cell_type": "markdown",
      "metadata": {
        "id": "sbr-SnON4LuM"
      },
      "source": [
        "Siguiente paso es dividir el dataset en entrenamiento (train) y evaluación (test). Utilizaremos el criterio 80%20%"
      ]
    },
    {
      "cell_type": "code",
      "execution_count": 146,
      "metadata": {
        "id": "BVD4YkjS4MW2"
      },
      "outputs": [],
      "source": [
        "# Alumno, generar los dataset de train y test superando en 80%20%\n",
        "from sklearn.model_selection import train_test_split\n",
        "X_train, X_test, y_train, y_test = train_test_split(X, y, test_size=0.2, random_state=42)"
      ]
    },
    {
      "cell_type": "code",
      "execution_count": 147,
      "metadata": {
        "id": "ZRw2jgPl4Xuc"
      },
      "outputs": [],
      "source": [
        "from keras.layers import InputLayer, Dense\n",
        "# Alumno: crear un modelo secuencial de dos capas (hidden y output).\n",
        "# Coloque correctamente el valor de in_shape y out_shape en el modelo\n",
        "# pero seleccione por su cuenta la cantidad de neuronas en la capa oculta\n",
        "model = Sequential()\n",
        "model.add(InputLayer(input_shape=(in_shape,)))\n",
        "model.add(Dense(units=64, activation='sigmoid'))\n",
        "model.add(Dense(units=out_shape, activation='sigmoid'))"
      ]
    },
    {
      "cell_type": "code",
      "execution_count": 148,
      "metadata": {
        "id": "BzH_dPq7K8yU"
      },
      "outputs": [],
      "source": [
        "# Alumno: compilar el modelo con binary_crossentropy y métrica de \"accuracy\"\n",
        "import tensorflow as tf\n",
        "model.compile(optimizer=tf.keras.optimizers.Adam(learning_rate=0.005),\n",
        "              loss='binary_crossentropy',\n",
        "              metrics=['accuracy'])"
      ]
    },
    {
      "cell_type": "code",
      "execution_count": 149,
      "metadata": {
        "id": "P1q1Z7voLPYb"
      },
      "outputs": [
        {
          "name": "stdout",
          "output_type": "stream",
          "text": [
            "Epoch 1/80\n",
            "15/15 [==============================] - 1s 16ms/step - loss: 0.6620 - accuracy: 0.5965 - val_loss: 0.6715 - val_accuracy: 0.5652\n",
            "Epoch 2/80\n",
            "15/15 [==============================] - 0s 6ms/step - loss: 0.6241 - accuracy: 0.6162 - val_loss: 0.6385 - val_accuracy: 0.6087\n",
            "Epoch 3/80\n",
            "15/15 [==============================] - 0s 6ms/step - loss: 0.5918 - accuracy: 0.7039 - val_loss: 0.6166 - val_accuracy: 0.6522\n",
            "Epoch 4/80\n",
            "15/15 [==============================] - 0s 6ms/step - loss: 0.5664 - accuracy: 0.7018 - val_loss: 0.5971 - val_accuracy: 0.6957\n",
            "Epoch 5/80\n",
            "15/15 [==============================] - 0s 6ms/step - loss: 0.5423 - accuracy: 0.7610 - val_loss: 0.5768 - val_accuracy: 0.7304\n",
            "Epoch 6/80\n",
            "15/15 [==============================] - 0s 5ms/step - loss: 0.5209 - accuracy: 0.7829 - val_loss: 0.5551 - val_accuracy: 0.7478\n",
            "Epoch 7/80\n",
            "15/15 [==============================] - 0s 5ms/step - loss: 0.5024 - accuracy: 0.8004 - val_loss: 0.5347 - val_accuracy: 0.7391\n",
            "Epoch 8/80\n",
            "15/15 [==============================] - 0s 6ms/step - loss: 0.4872 - accuracy: 0.8158 - val_loss: 0.5269 - val_accuracy: 0.7478\n",
            "Epoch 9/80\n",
            "15/15 [==============================] - 0s 7ms/step - loss: 0.4724 - accuracy: 0.8180 - val_loss: 0.5152 - val_accuracy: 0.7652\n",
            "Epoch 10/80\n",
            "15/15 [==============================] - 0s 6ms/step - loss: 0.4636 - accuracy: 0.8114 - val_loss: 0.5080 - val_accuracy: 0.7739\n",
            "Epoch 11/80\n",
            "15/15 [==============================] - 0s 5ms/step - loss: 0.4534 - accuracy: 0.8180 - val_loss: 0.4941 - val_accuracy: 0.7913\n",
            "Epoch 12/80\n",
            "15/15 [==============================] - 0s 5ms/step - loss: 0.4476 - accuracy: 0.8092 - val_loss: 0.4869 - val_accuracy: 0.7826\n",
            "Epoch 13/80\n",
            "15/15 [==============================] - 0s 5ms/step - loss: 0.4373 - accuracy: 0.8180 - val_loss: 0.4936 - val_accuracy: 0.7913\n",
            "Epoch 14/80\n",
            "15/15 [==============================] - 0s 6ms/step - loss: 0.4357 - accuracy: 0.8180 - val_loss: 0.4830 - val_accuracy: 0.7913\n",
            "Epoch 15/80\n",
            "15/15 [==============================] - 0s 5ms/step - loss: 0.4297 - accuracy: 0.8114 - val_loss: 0.4741 - val_accuracy: 0.7826\n",
            "Epoch 16/80\n",
            "15/15 [==============================] - 0s 5ms/step - loss: 0.4296 - accuracy: 0.8026 - val_loss: 0.4819 - val_accuracy: 0.7913\n",
            "Epoch 17/80\n",
            "15/15 [==============================] - 0s 5ms/step - loss: 0.4310 - accuracy: 0.8158 - val_loss: 0.4735 - val_accuracy: 0.8000\n",
            "Epoch 18/80\n",
            "15/15 [==============================] - 0s 6ms/step - loss: 0.4316 - accuracy: 0.8158 - val_loss: 0.4764 - val_accuracy: 0.7913\n",
            "Epoch 19/80\n",
            "15/15 [==============================] - 0s 6ms/step - loss: 0.4338 - accuracy: 0.8136 - val_loss: 0.4769 - val_accuracy: 0.7913\n",
            "Epoch 20/80\n",
            "15/15 [==============================] - 0s 6ms/step - loss: 0.4315 - accuracy: 0.8136 - val_loss: 0.4709 - val_accuracy: 0.7913\n",
            "Epoch 21/80\n",
            "15/15 [==============================] - 0s 5ms/step - loss: 0.4264 - accuracy: 0.8202 - val_loss: 0.4757 - val_accuracy: 0.8000\n",
            "Epoch 22/80\n",
            "15/15 [==============================] - 0s 5ms/step - loss: 0.4240 - accuracy: 0.8114 - val_loss: 0.4689 - val_accuracy: 0.7913\n",
            "Epoch 23/80\n",
            "15/15 [==============================] - 0s 7ms/step - loss: 0.4237 - accuracy: 0.8224 - val_loss: 0.4665 - val_accuracy: 0.8000\n",
            "Epoch 24/80\n",
            "15/15 [==============================] - 0s 5ms/step - loss: 0.4194 - accuracy: 0.8180 - val_loss: 0.4673 - val_accuracy: 0.8000\n",
            "Epoch 25/80\n",
            "15/15 [==============================] - 0s 5ms/step - loss: 0.4186 - accuracy: 0.8136 - val_loss: 0.4666 - val_accuracy: 0.8000\n",
            "Epoch 26/80\n",
            "15/15 [==============================] - 0s 6ms/step - loss: 0.4184 - accuracy: 0.8158 - val_loss: 0.4758 - val_accuracy: 0.8000\n",
            "Epoch 27/80\n",
            "15/15 [==============================] - 0s 7ms/step - loss: 0.4190 - accuracy: 0.8180 - val_loss: 0.4648 - val_accuracy: 0.8087\n",
            "Epoch 28/80\n",
            "15/15 [==============================] - 0s 5ms/step - loss: 0.4186 - accuracy: 0.8114 - val_loss: 0.4620 - val_accuracy: 0.8087\n",
            "Epoch 29/80\n",
            "15/15 [==============================] - 0s 5ms/step - loss: 0.4189 - accuracy: 0.8180 - val_loss: 0.4664 - val_accuracy: 0.8087\n",
            "Epoch 30/80\n",
            "15/15 [==============================] - 0s 5ms/step - loss: 0.4185 - accuracy: 0.8136 - val_loss: 0.4712 - val_accuracy: 0.8000\n",
            "Epoch 31/80\n",
            "15/15 [==============================] - 0s 5ms/step - loss: 0.4149 - accuracy: 0.8202 - val_loss: 0.4597 - val_accuracy: 0.8087\n",
            "Epoch 32/80\n",
            "15/15 [==============================] - 0s 5ms/step - loss: 0.4152 - accuracy: 0.8224 - val_loss: 0.4730 - val_accuracy: 0.8000\n",
            "Epoch 33/80\n",
            "15/15 [==============================] - 0s 5ms/step - loss: 0.4150 - accuracy: 0.8246 - val_loss: 0.4665 - val_accuracy: 0.8174\n",
            "Epoch 34/80\n",
            "15/15 [==============================] - 0s 5ms/step - loss: 0.4195 - accuracy: 0.8180 - val_loss: 0.4601 - val_accuracy: 0.8087\n",
            "Epoch 35/80\n",
            "15/15 [==============================] - 0s 5ms/step - loss: 0.4149 - accuracy: 0.8158 - val_loss: 0.4642 - val_accuracy: 0.8087\n",
            "Epoch 36/80\n",
            "15/15 [==============================] - 0s 5ms/step - loss: 0.4137 - accuracy: 0.8180 - val_loss: 0.4709 - val_accuracy: 0.8000\n",
            "Epoch 37/80\n",
            "15/15 [==============================] - 0s 6ms/step - loss: 0.4147 - accuracy: 0.8202 - val_loss: 0.4572 - val_accuracy: 0.8174\n",
            "Epoch 38/80\n",
            "15/15 [==============================] - 0s 7ms/step - loss: 0.4128 - accuracy: 0.8224 - val_loss: 0.4546 - val_accuracy: 0.8087\n",
            "Epoch 39/80\n",
            "15/15 [==============================] - 0s 5ms/step - loss: 0.4186 - accuracy: 0.8202 - val_loss: 0.4604 - val_accuracy: 0.8174\n",
            "Epoch 40/80\n",
            "15/15 [==============================] - 0s 4ms/step - loss: 0.4152 - accuracy: 0.8180 - val_loss: 0.4610 - val_accuracy: 0.8174\n",
            "Epoch 41/80\n",
            "15/15 [==============================] - 0s 4ms/step - loss: 0.4139 - accuracy: 0.8246 - val_loss: 0.4595 - val_accuracy: 0.8174\n",
            "Epoch 42/80\n",
            "15/15 [==============================] - 0s 5ms/step - loss: 0.4104 - accuracy: 0.8224 - val_loss: 0.4699 - val_accuracy: 0.8087\n",
            "Epoch 43/80\n",
            "15/15 [==============================] - 0s 5ms/step - loss: 0.4136 - accuracy: 0.8202 - val_loss: 0.4654 - val_accuracy: 0.8174\n",
            "Epoch 44/80\n",
            "15/15 [==============================] - 0s 5ms/step - loss: 0.4149 - accuracy: 0.8224 - val_loss: 0.4625 - val_accuracy: 0.8174\n",
            "Epoch 45/80\n",
            "15/15 [==============================] - 0s 5ms/step - loss: 0.4126 - accuracy: 0.8202 - val_loss: 0.4590 - val_accuracy: 0.8261\n",
            "Epoch 46/80\n",
            "15/15 [==============================] - 0s 4ms/step - loss: 0.4131 - accuracy: 0.8246 - val_loss: 0.4646 - val_accuracy: 0.8087\n",
            "Epoch 47/80\n",
            "15/15 [==============================] - 0s 6ms/step - loss: 0.4136 - accuracy: 0.8202 - val_loss: 0.4592 - val_accuracy: 0.8174\n",
            "Epoch 48/80\n",
            "15/15 [==============================] - 0s 5ms/step - loss: 0.4177 - accuracy: 0.8224 - val_loss: 0.4590 - val_accuracy: 0.8174\n",
            "Epoch 49/80\n",
            "15/15 [==============================] - 0s 5ms/step - loss: 0.4131 - accuracy: 0.8202 - val_loss: 0.4602 - val_accuracy: 0.8087\n",
            "Epoch 50/80\n",
            "15/15 [==============================] - 0s 4ms/step - loss: 0.4106 - accuracy: 0.8268 - val_loss: 0.4485 - val_accuracy: 0.8174\n",
            "Epoch 51/80\n",
            "15/15 [==============================] - 0s 4ms/step - loss: 0.4133 - accuracy: 0.8224 - val_loss: 0.4610 - val_accuracy: 0.8087\n",
            "Epoch 52/80\n",
            "15/15 [==============================] - 0s 5ms/step - loss: 0.4096 - accuracy: 0.8268 - val_loss: 0.4608 - val_accuracy: 0.8087\n",
            "Epoch 53/80\n",
            "15/15 [==============================] - 0s 6ms/step - loss: 0.4105 - accuracy: 0.8202 - val_loss: 0.4554 - val_accuracy: 0.8174\n",
            "Epoch 54/80\n",
            "15/15 [==============================] - 0s 6ms/step - loss: 0.4083 - accuracy: 0.8268 - val_loss: 0.4490 - val_accuracy: 0.8261\n",
            "Epoch 55/80\n",
            "15/15 [==============================] - 0s 4ms/step - loss: 0.4096 - accuracy: 0.8311 - val_loss: 0.4645 - val_accuracy: 0.8087\n",
            "Epoch 56/80\n",
            "15/15 [==============================] - 0s 4ms/step - loss: 0.4058 - accuracy: 0.8311 - val_loss: 0.4464 - val_accuracy: 0.8174\n",
            "Epoch 57/80\n",
            "15/15 [==============================] - 0s 5ms/step - loss: 0.4134 - accuracy: 0.8224 - val_loss: 0.4729 - val_accuracy: 0.8087\n",
            "Epoch 58/80\n",
            "15/15 [==============================] - 0s 5ms/step - loss: 0.4101 - accuracy: 0.8268 - val_loss: 0.4543 - val_accuracy: 0.8261\n",
            "Epoch 59/80\n",
            "15/15 [==============================] - 0s 5ms/step - loss: 0.4086 - accuracy: 0.8202 - val_loss: 0.4510 - val_accuracy: 0.8261\n",
            "Epoch 60/80\n",
            "15/15 [==============================] - 0s 6ms/step - loss: 0.4086 - accuracy: 0.8268 - val_loss: 0.4530 - val_accuracy: 0.8174\n",
            "Epoch 61/80\n",
            "15/15 [==============================] - 0s 5ms/step - loss: 0.4072 - accuracy: 0.8289 - val_loss: 0.4520 - val_accuracy: 0.8174\n",
            "Epoch 62/80\n",
            "15/15 [==============================] - 0s 5ms/step - loss: 0.4188 - accuracy: 0.8180 - val_loss: 0.4526 - val_accuracy: 0.8174\n",
            "Epoch 63/80\n",
            "15/15 [==============================] - 0s 4ms/step - loss: 0.4126 - accuracy: 0.8246 - val_loss: 0.4505 - val_accuracy: 0.8261\n",
            "Epoch 64/80\n",
            "15/15 [==============================] - 0s 5ms/step - loss: 0.4044 - accuracy: 0.8268 - val_loss: 0.4569 - val_accuracy: 0.8087\n",
            "Epoch 65/80\n",
            "15/15 [==============================] - 0s 5ms/step - loss: 0.4052 - accuracy: 0.8289 - val_loss: 0.4575 - val_accuracy: 0.8087\n",
            "Epoch 66/80\n",
            "15/15 [==============================] - 0s 5ms/step - loss: 0.4052 - accuracy: 0.8246 - val_loss: 0.4549 - val_accuracy: 0.8174\n",
            "Epoch 67/80\n",
            "15/15 [==============================] - 0s 5ms/step - loss: 0.4056 - accuracy: 0.8268 - val_loss: 0.4525 - val_accuracy: 0.8261\n",
            "Epoch 68/80\n",
            "15/15 [==============================] - 0s 5ms/step - loss: 0.4065 - accuracy: 0.8311 - val_loss: 0.4614 - val_accuracy: 0.8087\n",
            "Epoch 69/80\n",
            "15/15 [==============================] - 0s 5ms/step - loss: 0.4040 - accuracy: 0.8246 - val_loss: 0.4546 - val_accuracy: 0.8087\n",
            "Epoch 70/80\n",
            "15/15 [==============================] - 0s 6ms/step - loss: 0.4063 - accuracy: 0.8268 - val_loss: 0.4407 - val_accuracy: 0.8261\n",
            "Epoch 71/80\n",
            "15/15 [==============================] - 0s 5ms/step - loss: 0.4071 - accuracy: 0.8180 - val_loss: 0.4554 - val_accuracy: 0.8087\n",
            "Epoch 72/80\n",
            "15/15 [==============================] - 0s 5ms/step - loss: 0.4070 - accuracy: 0.8268 - val_loss: 0.4554 - val_accuracy: 0.8087\n",
            "Epoch 73/80\n",
            "15/15 [==============================] - 0s 5ms/step - loss: 0.4053 - accuracy: 0.8202 - val_loss: 0.4518 - val_accuracy: 0.8174\n",
            "Epoch 74/80\n",
            "15/15 [==============================] - 0s 5ms/step - loss: 0.4104 - accuracy: 0.8268 - val_loss: 0.4500 - val_accuracy: 0.8087\n",
            "Epoch 75/80\n",
            "15/15 [==============================] - 0s 5ms/step - loss: 0.4050 - accuracy: 0.8289 - val_loss: 0.4485 - val_accuracy: 0.8087\n",
            "Epoch 76/80\n",
            "15/15 [==============================] - 0s 5ms/step - loss: 0.4043 - accuracy: 0.8268 - val_loss: 0.4471 - val_accuracy: 0.8087\n",
            "Epoch 77/80\n",
            "15/15 [==============================] - 0s 5ms/step - loss: 0.4033 - accuracy: 0.8289 - val_loss: 0.4486 - val_accuracy: 0.8087\n",
            "Epoch 78/80\n",
            "15/15 [==============================] - 0s 5ms/step - loss: 0.4020 - accuracy: 0.8311 - val_loss: 0.4506 - val_accuracy: 0.8087\n",
            "Epoch 79/80\n",
            "15/15 [==============================] - 0s 4ms/step - loss: 0.4029 - accuracy: 0.8224 - val_loss: 0.4531 - val_accuracy: 0.8087\n",
            "Epoch 80/80\n",
            "15/15 [==============================] - 0s 5ms/step - loss: 0.4021 - accuracy: 0.8289 - val_loss: 0.4485 - val_accuracy: 0.8174\n"
          ]
        }
      ],
      "source": [
        "# Alumno: entrenar el modelo, seleccionar un 20% para el dataset de validacion\n",
        "# Queda a su gusto seleccionar la cantidad de épocas\n",
        "# Almacenar la salida del fit en una variable \"history\"\n",
        "history = model.fit(X_train, y_train, validation_split=0.2 , epochs=80)"
      ]
    },
    {
      "cell_type": "code",
      "execution_count": 150,
      "metadata": {
        "id": "12SHo7bDLpHk"
      },
      "outputs": [
        {
          "data": {
            "image/png": "[encoded data removed]",
            "text/plain": [
              "<Figure size 432x288 with 1 Axes>"
            ]
          },
          "metadata": {
            "needs_background": "light"
          },
          "output_type": "display_data"
        }
      ],
      "source": [
        "# Alumno: Graficar la evolución del accuracy durante el entrenamiento\n",
        "# tanto para el dataset de train y el de valid en un gráfico\n",
        "# plot line\n",
        "epocas_conteo = range(1, len(history.history['accuracy']) + 1)\n",
        "sns.lineplot(x=epocas_conteo, y=history.history['accuracy'], label='train')\n",
        "sns.lineplot(x=epocas_conteo, y=history.history['val_accuracy'], label='valid')\n",
        "plt.show()"
      ]
    },
    {
      "cell_type": "code",
      "execution_count": 151,
      "metadata": {
        "id": "rMuNNR9HL97_"
      },
      "outputs": [
        {
          "name": "stdout",
          "output_type": "stream",
          "text": [
            "5/5 [==============================] - 0s 2ms/step\n"
          ]
        },
        {
          "data": {
            "text/plain": [
              "array([[0.09137763],\n",
              "       [0.5597419 ],\n",
              "       [0.7936531 ],\n",
              "       [0.98204017],\n",
              "       [0.03530285],\n",
              "       [0.4542273 ],\n",
              "       [0.29954082],\n",
              "       [0.5557448 ],\n",
              "       [0.5011803 ],\n",
              "       [0.59381944],\n",
              "       [0.98550797],\n",
              "       [0.79800296],\n",
              "       [0.38640577],\n",
              "       [0.04625911],\n",
              "       [0.969497  ],\n",
              "       [0.14149606],\n",
              "       [0.11994149],\n",
              "       [0.98736256],\n",
              "       [0.20912643],\n",
              "       [0.9461552 ],\n",
              "       [0.33342114],\n",
              "       [0.63037264],\n",
              "       [0.7329867 ],\n",
              "       [0.3800449 ],\n",
              "       [0.13339765],\n",
              "       [0.18966545],\n",
              "       [0.20319127],\n",
              "       [0.08222417],\n",
              "       [0.6253766 ],\n",
              "       [0.04625911],\n",
              "       [0.5098106 ],\n",
              "       [0.60788715],\n",
              "       [0.36684346],\n",
              "       [0.05534071],\n",
              "       [0.02977494],\n",
              "       [0.30064073],\n",
              "       [0.10626157],\n",
              "       [0.22141598],\n",
              "       [0.21281962],\n",
              "       [0.02484825],\n",
              "       [0.42083764],\n",
              "       [0.15370636],\n",
              "       [0.9586002 ],\n",
              "       [0.05903715],\n",
              "       [0.26086333],\n",
              "       [0.8300687 ],\n",
              "       [0.7436236 ],\n",
              "       [0.40537137],\n",
              "       [0.3201395 ],\n",
              "       [0.95235825],\n",
              "       [0.33232236],\n",
              "       [0.8703618 ],\n",
              "       [0.43390825],\n",
              "       [0.08755402],\n",
              "       [0.10789016],\n",
              "       [0.5946901 ],\n",
              "       [0.48757747],\n",
              "       [0.07679675],\n",
              "       [0.06327195],\n",
              "       [0.05089745],\n",
              "       [0.9320917 ],\n",
              "       [0.10789016],\n",
              "       [0.66282475],\n",
              "       [0.18966545],\n",
              "       [0.33370566],\n",
              "       [0.26125664],\n",
              "       [0.437519  ],\n",
              "       [0.9832665 ],\n",
              "       [0.0714989 ],\n",
              "       [0.4082066 ],\n",
              "       [0.18966545],\n",
              "       [0.9266543 ],\n",
              "       [0.1418977 ],\n",
              "       [0.15370636],\n",
              "       [0.03202626],\n",
              "       [0.09267615],\n",
              "       [0.33370566],\n",
              "       [0.17691833],\n",
              "       [0.45621535],\n",
              "       [0.7140625 ],\n",
              "       [0.37166202],\n",
              "       [0.38640577],\n",
              "       [0.26665476],\n",
              "       [0.16493781],\n",
              "       [0.10789016],\n",
              "       [0.6480348 ],\n",
              "       [0.39164162],\n",
              "       [0.04022352],\n",
              "       [0.16493781],\n",
              "       [0.29814392],\n",
              "       [0.27528295],\n",
              "       [0.96508783],\n",
              "       [0.6362932 ],\n",
              "       [0.05315137],\n",
              "       [0.78938794],\n",
              "       [0.538131  ],\n",
              "       [0.98204017],\n",
              "       [0.47083372],\n",
              "       [0.17479952],\n",
              "       [0.36313814],\n",
              "       [0.8387003 ],\n",
              "       [0.9028988 ],\n",
              "       [0.07642789],\n",
              "       [0.5794069 ],\n",
              "       [0.91839343],\n",
              "       [0.10626157],\n",
              "       [0.15370636],\n",
              "       [0.33992848],\n",
              "       [0.03359819],\n",
              "       [0.69550186],\n",
              "       [0.08755402],\n",
              "       [0.14320166],\n",
              "       [0.05705   ],\n",
              "       [0.23481598],\n",
              "       [0.18966545],\n",
              "       [0.46505442],\n",
              "       [0.04523347],\n",
              "       [0.634151  ],\n",
              "       [0.08176934],\n",
              "       [0.03530285],\n",
              "       [0.98550797],\n",
              "       [0.04293199],\n",
              "       [0.06723591],\n",
              "       [0.15370636],\n",
              "       [0.9737297 ],\n",
              "       [0.10058137],\n",
              "       [0.14320166],\n",
              "       [0.91372025],\n",
              "       [0.08176934],\n",
              "       [0.9553192 ],\n",
              "       [0.06723591],\n",
              "       [0.04031193],\n",
              "       [0.10058137],\n",
              "       [0.783567  ],\n",
              "       [0.12078196],\n",
              "       [0.13339765],\n",
              "       [0.06276199],\n",
              "       [0.37494487],\n",
              "       [0.08052702],\n",
              "       [0.07988612],\n",
              "       [0.05534071],\n",
              "       [0.89083946],\n",
              "       [0.9841065 ]], dtype=float32)"
            ]
          },
          "execution_count": 151,
          "metadata": {},
          "output_type": "execute_result"
        }
      ],
      "source": [
        "# Alumno: obtener la probabilidad de sobreviir (y_hat_prob)\n",
        "# realizando una prediccion (predict) con el dataset de test\n",
        "y_hat_prob = model.predict(X_test)\n",
        "y_hat_prob"
      ]
    },
    {
      "cell_type": "code",
      "execution_count": 152,
      "metadata": {
        "id": "MiLJQi_gMIsS"
      },
      "outputs": [
        {
          "data": {
            "text/plain": [
              "[0,\n",
              " 1,\n",
              " 1,\n",
              " 1,\n",
              " 0,\n",
              " 0,\n",
              " 0,\n",
              " 1,\n",
              " 1,\n",
              " 1,\n",
              " 1,\n",
              " 1,\n",
              " 0,\n",
              " 0,\n",
              " 1,\n",
              " 0,\n",
              " 0,\n",
              " 1,\n",
              " 0,\n",
              " 1,\n",
              " 0,\n",
              " 1,\n",
              " 1,\n",
              " 0,\n",
              " 0,\n",
              " 0,\n",
              " 0,\n",
              " 0,\n",
              " 1,\n",
              " 0,\n",
              " 1,\n",
              " 1,\n",
              " 0,\n",
              " 0,\n",
              " 0,\n",
              " 0,\n",
              " 0,\n",
              " 0,\n",
              " 0,\n",
              " 0,\n",
              " 0,\n",
              " 0,\n",
              " 1,\n",
              " 0,\n",
              " 0,\n",
              " 1,\n",
              " 1,\n",
              " 0,\n",
              " 0,\n",
              " 1,\n",
              " 0,\n",
              " 1,\n",
              " 0,\n",
              " 0,\n",
              " 0,\n",
              " 1,\n",
              " 0,\n",
              " 0,\n",
              " 0,\n",
              " 0,\n",
              " 1,\n",
              " 0,\n",
              " 1,\n",
              " 0,\n",
              " 0,\n",
              " 0,\n",
              " 0,\n",
              " 1,\n",
              " 0,\n",
              " 0,\n",
              " 0,\n",
              " 1,\n",
              " 0,\n",
              " 0,\n",
              " 0,\n",
              " 0,\n",
              " 0,\n",
              " 0,\n",
              " 0,\n",
              " 1,\n",
              " 0,\n",
              " 0,\n",
              " 0,\n",
              " 0,\n",
              " 0,\n",
              " 1,\n",
              " 0,\n",
              " 0,\n",
              " 0,\n",
              " 0,\n",
              " 0,\n",
              " 1,\n",
              " 1,\n",
              " 0,\n",
              " 1,\n",
              " 1,\n",
              " 1,\n",
              " 0,\n",
              " 0,\n",
              " 0,\n",
              " 1,\n",
              " 1,\n",
              " 0,\n",
              " 1,\n",
              " 1,\n",
              " 0,\n",
              " 0,\n",
              " 0,\n",
              " 0,\n",
              " 1,\n",
              " 0,\n",
              " 0,\n",
              " 0,\n",
              " 0,\n",
              " 0,\n",
              " 0,\n",
              " 0,\n",
              " 1,\n",
              " 0,\n",
              " 0,\n",
              " 1,\n",
              " 0,\n",
              " 0,\n",
              " 0,\n",
              " 1,\n",
              " 0,\n",
              " 0,\n",
              " 1,\n",
              " 0,\n",
              " 1,\n",
              " 0,\n",
              " 0,\n",
              " 0,\n",
              " 1,\n",
              " 0,\n",
              " 0,\n",
              " 0,\n",
              " 0,\n",
              " 0,\n",
              " 0,\n",
              " 0,\n",
              " 1,\n",
              " 1]"
            ]
          },
          "execution_count": 152,
          "metadata": {},
          "output_type": "execute_result"
        }
      ],
      "source": [
        "# Alumno: transformar las probabilidads en 0 y 1, si la probabilidad es\n",
        "# mayor o igual a 0.5 definir que la persona sobrevivió (1)\n",
        "# Estos valores guardarlos en y_hat\n",
        "y_hat = [1 if x >= 0.5 else 0 for x in y_hat_prob]\n",
        "y_hat"
      ]
    },
    {
      "cell_type": "markdown",
      "metadata": {
        "id": "w3IfjUuI4XnD"
      },
      "source": [
        "# Validar modelo\n",
        "<img src=\"https://raw.githubusercontent.com/InoveAlumnos/dataset_analytics_python/master/images/Pipeline5.png\" width=\"1000\" align=\"middle\">"
      ]
    },
    {
      "cell_type": "code",
      "execution_count": 153,
      "metadata": {
        "id": "CMKONtv55zL8"
      },
      "outputs": [
        {
          "data": {
            "text/plain": [
              "0.7762237762237763"
            ]
          },
          "execution_count": 153,
          "metadata": {},
          "output_type": "execute_result"
        }
      ],
      "source": [
        "# Alumno, calcular la exactitud (accuracy) de su modelo\n",
        "from sklearn.metrics import accuracy_score\n",
        "accuracy_score(y_test, y_hat, normalize=True)"
      ]
    },
    {
      "cell_type": "code",
      "execution_count": 154,
      "metadata": {
        "id": "TeLeYLYz6ZhO"
      },
      "outputs": [
        {
          "data": {
            "image/png": "[encoded data removed]",
            "text/plain": [
              "<Figure size 432x288 with 2 Axes>"
            ]
          },
          "metadata": {
            "needs_background": "light"
          },
          "output_type": "display_data"
        }
      ],
      "source": [
        "# Alumno, dibujar la matriz de confusion\n",
        "# definir display_labels=['NO SOBREVIVE', 'SOBREVIVE']\n",
        "from sklearn.metrics import confusion_matrix, ConfusionMatrixDisplay\n",
        "cm = confusion_matrix(y_test, y_hat)\n",
        "cmd = ConfusionMatrixDisplay(cm, display_labels=['NO SOBREVIVE', 'SOBREVIVE'])\n",
        "cmd.plot(cmap=plt.cm.Reds)\n",
        "plt.show()"
      ]
    },
    {
      "cell_type": "markdown",
      "metadata": {
        "id": "9dZxGbjG96jR"
      },
      "source": [
        "# Utilizar modelo\n",
        "<img src=\"https://raw.githubusercontent.com/InoveAlumnos/dataset_analytics_python/master/images/Pipeline6.png\" width=\"1000\" align=\"middle\">"
      ]
    },
    {
      "cell_type": "code",
      "execution_count": 172,
      "metadata": {
        "id": "7YH0C6473i5f"
      },
      "outputs": [],
      "source": [
        "# Alumno, pona a prueba el modelo, ingrese datos ficticios y divertase un rato :)\n",
        "# Recordar que los datos de genero (Sex) ahora son numéricos para el modelo (0 o 1)\n",
        "# Debe utilizar el encoder que se generó antes para convertir los nuevos valores\n",
        "# Recordar que los datos de edad (Age) se normalizaron, debe utilizar ese\n",
        "# scaler generado para transformarlo\n",
        "X_prueba = pd.DataFrame({'Pclass':[1],'Sex':['male'],'Age':[35], 'SibSp':[1], 'Parch':[0]})"
      ]
    },
    {
      "cell_type": "code",
      "execution_count": 173,
      "metadata": {},
      "outputs": [
        {
          "data": {
            "text/plain": [
              "array([[1.        , 1.        , 0.36516706, 1.        , 0.        ]])"
            ]
          },
          "execution_count": 173,
          "metadata": {},
          "output_type": "execute_result"
        }
      ],
      "source": [
        "X_prueba['Sex'] = le.transform(X_prueba['Sex'])\n",
        "\n",
        "X_prueba['Age'] = scaler.transform(X_prueba[['Age']])\n",
        "\n",
        "X_prueba = X_prueba.values\n",
        "\n",
        "X_prueba"
      ]
    },
    {
      "cell_type": "code",
      "execution_count": 174,
      "metadata": {},
      "outputs": [
        {
          "name": "stdout",
          "output_type": "stream",
          "text": [
            "1/1 [==============================] - 0s 116ms/step\n"
          ]
        },
        {
          "data": {
            "text/plain": [
              "['PROBABLEMENTE NO SOBREVIVIÓ']"
            ]
          },
          "execution_count": 174,
          "metadata": {},
          "output_type": "execute_result"
        }
      ],
      "source": [
        "prediccion = model.predict(X_prueba)\n",
        "resultado = ['PROBABLEMENTE SOBREVIVIÓ' if x >= 0.5 else 'PROBABLEMENTE NO SOBREVIVIÓ' for x in prediccion]\n",
        "resultado"
      ]
    }
  ],
  "metadata": {
    "colab": {
      "collapsed_sections": [],
      "name": "1_titanic.ipynb",
      "provenance": [],
      "toc_visible": true
    },
    "kernelspec": {
      "display_name": "Python 3",
      "name": "python3"
    },
    "language_info": {
      "codemirror_mode": {
        "name": "ipython",
        "version": 3
      },
      "file_extension": ".py",
      "mimetype": "text/x-python",
      "name": "python",
      "nbconvert_exporter": "python",
      "pygments_lexer": "ipython3",
      "version": "3.9.6"
    }
  },
  "nbformat": 4,
  "nbformat_minor": 0
}
